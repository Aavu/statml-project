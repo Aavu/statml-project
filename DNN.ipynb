{
 "cells": [
  {
   "cell_type": "code",
   "execution_count": 44,
   "metadata": {},
   "outputs": [],
   "source": [
    "import os\n",
    "import gc, sys\n",
    "import numpy as np\n",
    "import matplotlib.pyplot as plt\n",
    "import pandas as pd\n",
    "from sklearn import preprocessing\n",
    "from keras import regularizers\n",
    "from keras.models import Sequential\n",
    "from keras.layers import Dense, Dropout, LeakyReLU\n",
    "from keras.wrappers.scikit_learn import KerasRegressor\n",
    "from sklearn.preprocessing import StandardScaler\n",
    "from sklearn.model_selection import GridSearchCV\n",
    "from sklearn.metrics import mean_squared_error\n",
    "from sklearn.metrics import mean_absolute_error\n",
    "import matplotlib\n",
    "%matplotlib inline\n",
    "import matplotlib.pyplot as plt\n",
    "from sklearn.pipeline import Pipeline"
   ]
  },
  {
   "cell_type": "code",
   "execution_count": 45,
   "metadata": {},
   "outputs": [],
   "source": [
    "def feature_engineering(is_train=True,debug=True):\n",
    "    if is_train: \n",
    "        print(\"processing train.csv\")\n",
    "        if debug == True:\n",
    "            df = pd.read_csv('train_V2.csv', nrows=10000)\n",
    "        else:\n",
    "            df = pd.read_csv('train_V2.csv')           \n",
    "\n",
    "        df = df[df['maxPlace'] > 1]\n",
    "    else:\n",
    "        print(\"processing test.csv\")\n",
    "        df = pd.read_csv('test_V2.csv')\n",
    "    \n",
    "    print(\"remove some columns\")\n",
    "    target = 'winPlacePerc'\n",
    "\n",
    "    print(\"Adding Features\")\n",
    " \n",
    "#     df['headshotrate'] = df['kills']/df['headshotKills']\n",
    "#     df['killStreakrate'] = df['killStreaks']/df['kills']\n",
    "#     df['healthitems'] = df['heals'] + df['boosts']\n",
    "#     df['totalDistance'] = df['rideDistance'] + df[\"walkDistance\"] + df[\"swimDistance\"]\n",
    "#     df['killPlace_over_maxPlace'] = df['killPlace'] / df['maxPlace']\n",
    "#     df['headshotKills_over_kills'] = df['headshotKills'] / df['kills']\n",
    "#     df['distance_over_weapons'] = df['totalDistance'] / df['weaponsAcquired']\n",
    "#     df['walkDistance_over_heals'] = df['walkDistance'] / df['heals']\n",
    "#     df['walkDistance_over_kills'] = df['walkDistance'] / df['kills']\n",
    "#     df['killsPerWalkDistance'] = df['kills'] / df['walkDistance']\n",
    "#     df[\"skill\"] = df[\"headshotKills\"] + df[\"roadKills\"]\n",
    "\n",
    "    df[df == np.Inf] = np.NaN\n",
    "    df[df == np.NINF] = np.NaN\n",
    "    \n",
    "    print(\"Removing Na's From DF\")\n",
    "    df.fillna(0, inplace=True)\n",
    "\n",
    "    \n",
    "    features = list(df.columns)\n",
    "    features.remove(\"Id\")\n",
    "    features.remove(\"matchId\")\n",
    "    features.remove(\"groupId\")\n",
    "    features.remove(\"matchType\")\n",
    "    \n",
    "    y = None\n",
    "    \n",
    "    if is_train: \n",
    "        print(\"get target\")\n",
    "        y = df.groupby(['matchId','groupId'])[target].agg('mean')\n",
    "        features.remove(target)\n",
    "\n",
    "    print(\"get group mean feature\")\n",
    "    agg = df.groupby(['matchId','groupId'])[features].agg('mean')\n",
    "    agg_rank = agg.groupby('matchId')[features].rank(pct=True).reset_index()\n",
    "    \n",
    "    if is_train: df_out = agg.reset_index()[['matchId','groupId']]\n",
    "    else: df_out = df[['matchId','groupId']]\n",
    "\n",
    "    df_out = df_out.merge(agg.reset_index(), suffixes=[\"\", \"\"], how='left', on=['matchId', 'groupId'])\n",
    "    df_out = df_out.merge(agg_rank, suffixes=[\"_mean\", \"_mean_rank\"], how='left', on=['matchId', 'groupId'])\n",
    "    \n",
    "    print(\"get group max feature\")\n",
    "    agg = df.groupby(['matchId','groupId'])[features].agg('max')\n",
    "    agg_rank = agg.groupby('matchId')[features].rank(pct=True).reset_index()\n",
    "    df_out = df_out.merge(agg.reset_index(), suffixes=[\"\", \"\"], how='left', on=['matchId', 'groupId'])\n",
    "    df_out = df_out.merge(agg_rank, suffixes=[\"_max\", \"_max_rank\"], how='left', on=['matchId', 'groupId'])\n",
    "    \n",
    "    print(\"get group min feature\")\n",
    "    agg = df.groupby(['matchId','groupId'])[features].agg('min')\n",
    "    agg_rank = agg.groupby('matchId')[features].rank(pct=True).reset_index()\n",
    "    df_out = df_out.merge(agg.reset_index(), suffixes=[\"\", \"\"], how='left', on=['matchId', 'groupId'])\n",
    "    df_out = df_out.merge(agg_rank, suffixes=[\"_min\", \"_min_rank\"], how='left', on=['matchId', 'groupId'])\n",
    "    \n",
    "    print(\"get group size feature\")\n",
    "    agg = df.groupby(['matchId','groupId']).size().reset_index(name='group_size')\n",
    "    df_out = df_out.merge(agg, how='left', on=['matchId', 'groupId'])\n",
    "    \n",
    "    print(\"get match mean feature\")\n",
    "    agg = df.groupby(['matchId'])[features].agg('mean').reset_index()\n",
    "    df_out = df_out.merge(agg, suffixes=[\"\", \"_match_mean\"], how='left', on=['matchId'])\n",
    "\n",
    "    print(\"get match size feature\")\n",
    "    agg = df.groupby(['matchId']).size().reset_index(name='match_size')\n",
    "    df_out = df_out.merge(agg, how='left', on=['matchId'])\n",
    "    \n",
    "    df_out.drop([\"matchId\", \"groupId\"], axis=1, inplace=True)\n",
    "\n",
    "    X = df_out\n",
    "    \n",
    "    del df, df_out, agg, agg_rank\n",
    "    gc.collect()\n",
    "\n",
    "    return X, y"
   ]
  },
  {
   "cell_type": "code",
   "execution_count": 46,
   "metadata": {},
   "outputs": [],
   "source": [
    "def reduce_mem_usage(df):\n",
    "    \"\"\" iterate through all the columns of a dataframe and modify the data type\n",
    "        to reduce memory usage.        \n",
    "    \"\"\"\n",
    "    start_mem = df.memory_usage().sum() \n",
    "    print('Memory usage of dataframe is {:.2f} MB'.format(start_mem))\n",
    "    \n",
    "    for col in df.columns:\n",
    "        col_type = df[col].dtype\n",
    "        \n",
    "        if col_type != object:\n",
    "            c_min = df[col].min()\n",
    "            c_max = df[col].max()\n",
    "            if str(col_type)[:3] == 'int':\n",
    "                if c_min > np.iinfo(np.int8).min and c_max < np.iinfo(np.int8).max:\n",
    "                    df[col] = df[col].astype(np.int8)\n",
    "                elif c_min > np.iinfo(np.int16).min and c_max < np.iinfo(np.int16).max:\n",
    "                    df[col] = df[col].astype(np.int16)\n",
    "                elif c_min > np.iinfo(np.int32).min and c_max < np.iinfo(np.int32).max:\n",
    "                    df[col] = df[col].astype(np.int32)\n",
    "                elif c_min > np.iinfo(np.int64).min and c_max < np.iinfo(np.int64).max:\n",
    "                    df[col] = df[col].astype(np.int64)  \n",
    "            else:\n",
    "                if c_min > np.finfo(np.float16).min and c_max < np.finfo(np.float16).max:\n",
    "                    df[col] = df[col].astype(np.float16)\n",
    "                elif c_min > np.finfo(np.float32).min and c_max < np.finfo(np.float32).max:\n",
    "                    df[col] = df[col].astype(np.float32)\n",
    "                else:\n",
    "                    df[col] = df[col].astype(np.float64)\n",
    "        else:\n",
    "            df[col] = df[col].astype('category')\n",
    "\n",
    "    end_mem = df.memory_usage().sum() \n",
    "    print('Memory usage after optimization is: {:.2f} MB'.format(end_mem))\n",
    "    print('Decreased by {:.1f}%'.format(100 * (start_mem - end_mem) / start_mem))\n",
    "    \n",
    "    return df"
   ]
  },
  {
   "cell_type": "code",
   "execution_count": 47,
   "metadata": {},
   "outputs": [
    {
     "name": "stdout",
     "output_type": "stream",
     "text": [
      "processing train.csv\n",
      "remove some columns\n",
      "Adding Features\n",
      "Removing Na's From DF\n",
      "get target\n",
      "get group mean feature\n",
      "get group max feature\n",
      "get group min feature\n",
      "get group size feature\n",
      "get match mean feature\n",
      "get match size feature\n",
      "processing test.csv\n",
      "remove some columns\n",
      "Adding Features\n",
      "Removing Na's From DF\n",
      "get group mean feature\n",
      "get group max feature\n",
      "get group min feature\n",
      "get group size feature\n",
      "get match mean feature\n",
      "get match size feature\n"
     ]
    }
   ],
   "source": [
    "x_train, y_train = feature_engineering(True,False)\n",
    "x_test, _ = feature_engineering(False,True)"
   ]
  },
  {
   "cell_type": "code",
   "execution_count": 38,
   "metadata": {},
   "outputs": [
    {
     "name": "stdout",
     "output_type": "stream",
     "text": [
      "0.04960561007640552\n"
     ]
    }
   ],
   "source": [
    "from sklearn.linear_model import LinearRegression\n",
    "from sklearn.model_selection import train_test_split\n",
    "from sklearn.metrics import mean_absolute_error\n",
    "Xtrain, Xtest, yTrain, yTest = train_test_split(x_train, y_train, shuffle=False)\n",
    "std_scaler = StandardScaler().fit(Xtrain)\n",
    "Xtrain = std_scaler.transform(Xtrain)\n",
    "Xtest = std_scaler.transform(Xtest)\n",
    "\n",
    "model = LinearRegression()\n",
    "model.fit(Xtrain, yTrain)\n",
    "pred = model.predict(Xtest)\n",
    "print(mean_absolute_error(pred, yTest))"
   ]
  },
  {
   "cell_type": "code",
   "execution_count": 40,
   "metadata": {},
   "outputs": [
    {
     "name": "stderr",
     "output_type": "stream",
     "text": [
      "/anaconda3/envs/ML/lib/python3.6/site-packages/sklearn/discriminant_analysis.py:388: UserWarning: Variables are collinear.\n",
      "  warnings.warn(\"Variables are collinear.\")\n"
     ]
    },
    {
     "name": "stdout",
     "output_type": "stream",
     "text": [
      "0.46874262995227806\n"
     ]
    }
   ],
   "source": [
    "from sklearn.discriminant_analysis import LinearDiscriminantAnalysis\n",
    "\n",
    "yTrain = yTrain.astype(int)\n",
    "model = LinearDiscriminantAnalysis()\n",
    "model.fit(Xtrain, yTrain)\n",
    "pred = model.predict(Xtest)\n",
    "print(mean_absolute_error(pred, yTest))\n"
   ]
  },
  {
   "cell_type": "code",
   "execution_count": 27,
   "metadata": {},
   "outputs": [],
   "source": [
    "def nn_model(input_shape=x_train.shape[1], hidden_size=128):\n",
    "    model = Sequential()\n",
    "    model.add(Dense(hidden_size, input_dim=input_shape, kernel_initializer='xavier'))\n",
    "    model.add(LeakyReLU(0.1))\n",
    "    model.add(Dropout(0.5))\n",
    "    model.add(Dense(hidden_size, kernel_initializer='xavier'))\n",
    "    model.add(LeakyReLU(0.1))\n",
    "    model.add(Dropout(0.5))\n",
    "    model.add(Dense(hidden_size, kernel_initializer='xavier'))\n",
    "    model.add(LeakyReLU(0.1))\n",
    "    model.add(Dropout(0.25))\n",
    "    model.add(Dense(hidden_size, kernel_initializer='xavier'))\n",
    "    model.add(LeakyReLU(0.1))\n",
    "    model.add(Dropout(0.25))\n",
    "    model.add(Dense(1, kernel_initializer='xavier'))\n",
    "    \n",
    "    model.compile(loss='mean_absolute_error', optimizer='adam', metrics=['mae'])\n",
    "    return model"
   ]
  },
  {
   "cell_type": "code",
   "execution_count": 8,
   "metadata": {},
   "outputs": [],
   "source": [
    "def train_val_split(x_train, y_train):\n",
    "    train_index = round(int(x_train.shape[0]*0.8))\n",
    "    dev_X = x_train[:train_index] \n",
    "    val_X = x_train[train_index:]\n",
    "    dev_y = y_train[:train_index] \n",
    "    val_y = y_train[train_index:]\n",
    "    return dev_X, val_X, dev_y, val_y"
   ]
  },
  {
   "cell_type": "code",
   "execution_count": 33,
   "metadata": {},
   "outputs": [
    {
     "name": "stderr",
     "output_type": "stream",
     "text": [
      "/anaconda3/envs/ML/lib/python3.6/site-packages/sklearn/preprocessing/data.py:625: DataConversionWarning: Data with input dtype int64, float64 were all converted to float64 by StandardScaler.\n",
      "  return self.partial_fit(X, y)\n",
      "/anaconda3/envs/ML/lib/python3.6/site-packages/ipykernel/__main__.py:4: DataConversionWarning: Data with input dtype int64, float64 were all converted to float64 by StandardScaler.\n",
      "/anaconda3/envs/ML/lib/python3.6/site-packages/ipykernel/__main__.py:5: DataConversionWarning: Data with input dtype int64, float64 were all converted to float64 by StandardScaler.\n"
     ]
    },
    {
     "name": "stdout",
     "output_type": "stream",
     "text": [
      "Train on 1824069 samples, validate on 202675 samples\n",
      "Epoch 1/8\n",
      "1824069/1824069 [==============================] - 44s 24us/step - loss: 0.0619 - mean_absolute_error: 0.0619 - val_loss: 0.0541 - val_mean_absolute_error: 0.0541\n",
      "Epoch 2/8\n",
      "1824069/1824069 [==============================] - 43s 23us/step - loss: 0.0535 - mean_absolute_error: 0.0535 - val_loss: 0.0512 - val_mean_absolute_error: 0.0512\n",
      "Epoch 3/8\n",
      "1824069/1824069 [==============================] - 43s 24us/step - loss: 0.0521 - mean_absolute_error: 0.0521 - val_loss: 0.0500 - val_mean_absolute_error: 0.0500\n",
      "Epoch 4/8\n",
      "1824069/1824069 [==============================] - 44s 24us/step - loss: 0.0514 - mean_absolute_error: 0.0514 - val_loss: 0.0518 - val_mean_absolute_error: 0.0518\n",
      "Epoch 5/8\n",
      "1824069/1824069 [==============================] - 43s 24us/step - loss: 0.0510 - mean_absolute_error: 0.0510 - val_loss: 0.0513 - val_mean_absolute_error: 0.0513\n",
      "Epoch 6/8\n",
      "1824069/1824069 [==============================] - 44s 24us/step - loss: 0.0507 - mean_absolute_error: 0.0507 - val_loss: 0.0530 - val_mean_absolute_error: 0.0530\n",
      "Epoch 7/8\n",
      "1824069/1824069 [==============================] - 44s 24us/step - loss: 0.0504 - mean_absolute_error: 0.0504 - val_loss: 0.0469 - val_mean_absolute_error: 0.0469\n",
      "Epoch 8/8\n",
      "1824069/1824069 [==============================] - 41s 23us/step - loss: 0.0502 - mean_absolute_error: 0.0502 - val_loss: 0.0512 - val_mean_absolute_error: 0.0512\n"
     ]
    }
   ],
   "source": [
    "np.random.seed(42)\n",
    "\n",
    "std_scaler = StandardScaler().fit(x_train)\n",
    "x_train = std_scaler.transform(x_train)\n",
    "x_test = std_scaler.transform(x_test)\n",
    "\n",
    "mlp_model = nn_model(x_train.shape[1], hidden_size=64)\n",
    "history = mlp_model.fit(x_train, y_train, batch_size=128, epochs=8, verbose=1, validation_split=0.1, shuffle=True)\n",
    "pred_test_mlp = mlp_model.predict(x_test)"
   ]
  },
  {
   "cell_type": "code",
   "execution_count": 34,
   "metadata": {},
   "outputs": [
    {
     "data": {
      "image/png": "[encoded data removed]",
      "text/plain": [
       "<Figure size 432x288 with 1 Axes>"
      ]
     },
     "metadata": {
      "needs_background": "light"
     },
     "output_type": "display_data"
    }
   ],
   "source": [
    "plt.plot(history.history['val_loss']);\n",
    "plt.plot(history.history['loss']);"
   ]
  },
  {
   "cell_type": "code",
   "execution_count": null,
   "metadata": {},
   "outputs": [],
   "source": []
  }
 ],
 "metadata": {
  "kernelspec": {
   "display_name": "Python [conda env:ML]",
   "language": "python",
   "name": "conda-env-ML-py"
  },
  "language_info": {
   "codemirror_mode": {
    "name": "ipython",
    "version": 3
   },
   "file_extension": ".py",
   "mimetype": "text/x-python",
   "name": "python",
   "nbconvert_exporter": "python",
   "pygments_lexer": "ipython3",
   "version": "3.6.6"
  }
 },
 "nbformat": 4,
 "nbformat_minor": 2
}
